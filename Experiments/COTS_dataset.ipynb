{
 "cells": [
  {
   "cell_type": "code",
   "execution_count": 1,
   "metadata": {},
   "outputs": [],
   "source": [
    "do_clone = False"
   ]
  },
  {
   "cell_type": "code",
   "execution_count": 2,
   "metadata": {},
   "outputs": [],
   "source": [
    "if do_clone:\n",
    "    # Packages Install\n",
    "    !pip install gitpython\n",
    "    import git\n",
    "    import shutil\n",
    "    import os\n",
    "\n",
    "    # Cloning repository\n",
    "    repo_url = 'https://github.com/dylanseychell/COTSDataset.git'\n",
    "    repo_dir = 'COTSDataset'  # Directory to clone the repository into\n",
    "\n",
    "    # Checking if the repository directory already exists\n",
    "    if not os.path.exists(repo_dir):\n",
    "        # Cloning repository\n",
    "        git.Repo.clone_from(repo_url, repo_dir)\n",
    "        print(\"Repository cloned successfully.\")\n",
    "    else:\n",
    "        print(\"Repository already cloned.\")\n",
    "\n",
    "    # Defining paths\n",
    "    part1_single_objects = os.path.join(repo_dir, \"Part 1 - Single Objects\")\n",
    "    part2_multiple_objects = os.path.join(repo_dir, \"Part 2 - Multiple Objects\")\n",
    "    part3_complex_background = os.path.join(repo_dir, \"Part 3 - Complex Background\")\n",
    "\n",
    "    print(\"Repository cloned successfully.\")"
   ]
  }
 ],
 "metadata": {
  "kernelspec": {
   "display_name": "ComputerVision",
   "language": "python",
   "name": "python3"
  },
  "language_info": {
   "codemirror_mode": {
    "name": "ipython",
    "version": 3
   },
   "file_extension": ".py",
   "mimetype": "text/x-python",
   "name": "python",
   "nbconvert_exporter": "python",
   "pygments_lexer": "ipython3",
   "version": "3.9.16"
  }
 },
 "nbformat": 4,
 "nbformat_minor": 2
}
